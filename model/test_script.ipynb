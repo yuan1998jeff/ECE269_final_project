{
 "cells": [
  {
   "cell_type": "code",
   "execution_count": 1,
   "metadata": {},
   "outputs": [
    {
     "name": "stderr",
     "output_type": "stream",
     "text": [
      "/home/jif055/model/utils/darts_utils.py:179: UserWarning: TensorRT (or pycuda) is not installed. compute_latency_ms_tensorrt() cannot be used.\n",
      "  warnings.warn(\"TensorRT (or pycuda) is not installed. compute_latency_ms_tensorrt() cannot be used.\")\n"
     ]
    }
   ],
   "source": [
    "import torchvision.datasets as dataset\n",
    "import torchvision.transforms as transform\n",
    "import torchvision.transforms.functional as TF\n",
    "from torch.utils.data import DataLoader\n",
    "from model_search import Network_Multi_Path as Network\n",
    "import matplotlib.pyplot as plt\n",
    "class Trans(object):\n",
    "    def __init__(self, transforms):\n",
    "        self.scale = (0.08, 1.0)\n",
    "        self.ratio = (3. / 4., 4. / 3.)\n",
    "        self.size = (128,256)\n",
    "        self.transforms = transforms\n",
    "        self.target_resize = transform.Resize((16, 32))\n",
    "        self.to_tensor = transform.ToTensor()\n",
    "\n",
    "    def __call__(self, image, target):\n",
    "        i, j, h, w = transform.RandomResizedCrop.get_params(image, self.scale, self.ratio)\n",
    "        image = F.resized_crop(image, i, j, h, w, self.size)\n",
    "        target = F.resized_crop(target, i, j, h, w, self.size)\n",
    "        target = self.target_resize(target)\n",
    "        image = self.to_tensor(image)\n",
    "        target = self.to_tensor(target)\n",
    "        target = target*255\n",
    "        target = target.long()\n",
    "        return image, target[0]\n",
    "\n",
    "train_dataset = dataset.Cityscapes('/datasets/cityscapes/',split='train', mode='fine',\n",
    "                     target_type='semantic',transforms=Compose([transform.RandomResizedCrop((128,256))]))\n",
    "\n",
    "train_dataloader = DataLoader(train_dataset, batch_size=2, shuffle=True, num_workers=4)"
   ]
  },
  {
   "cell_type": "code",
   "execution_count": 2,
   "metadata": {},
   "outputs": [],
   "source": [
    "imgs, labels = iter(train_dataloader).next()"
   ]
  },
  {
   "cell_type": "code",
   "execution_count": 3,
   "metadata": {},
   "outputs": [],
   "source": [
    "model = Network(num_classes=35, layers=5)\n",
    "model = model.cuda()"
   ]
  },
  {
   "cell_type": "code",
   "execution_count": 4,
   "metadata": {},
   "outputs": [],
   "source": [
    "imgs = imgs.cuda()\n",
    "labels = labels.cuda()\n"
   ]
  },
  {
   "cell_type": "code",
   "execution_count": 5,
   "metadata": {},
   "outputs": [
    {
     "name": "stdout",
     "output_type": "stream",
     "text": [
      "torch.Size([2, 96, 16, 32])\n",
      "torch.Size([2, 96, 16, 32])\n",
      "torch.Size([2, 96, 16, 32])\n"
     ]
    }
   ],
   "source": [
    "loss = model._loss(imgs, labels)"
   ]
  },
  {
   "cell_type": "code",
   "execution_count": 7,
   "metadata": {},
   "outputs": [],
   "source": [
    "loss.backward()"
   ]
  },
  {
   "cell_type": "code",
   "execution_count": null,
   "metadata": {},
   "outputs": [],
   "source": []
  }
 ],
 "metadata": {
  "kernelspec": {
   "display_name": "Python 3",
   "language": "python",
   "name": "python3"
  },
  "language_info": {
   "codemirror_mode": {
    "name": "ipython",
    "version": 3
   },
   "file_extension": ".py",
   "mimetype": "text/x-python",
   "name": "python",
   "nbconvert_exporter": "python",
   "pygments_lexer": "ipython3",
   "version": "3.7.7"
  }
 },
 "nbformat": 4,
 "nbformat_minor": 4
}
